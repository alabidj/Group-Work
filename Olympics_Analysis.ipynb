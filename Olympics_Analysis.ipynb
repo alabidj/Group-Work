{
 "cells": [
  {
   "cell_type": "code",
   "execution_count": 22,
   "metadata": {},
   "outputs": [],
   "source": [
    "import pandas as pd\n",
    "import numpy as np\n",
    "import matplotlib.pyplot as plt\n",
    "import matplotlib.ticker as mtick\n",
    "import matplotlib.patches as mpatches\n"
   ]
  },
  {
   "cell_type": "code",
   "execution_count": 38,
   "metadata": {},
   "outputs": [
    {
     "name": "stdout",
     "output_type": "stream",
     "text": [
      "['.ipynb_checkpoints', 'Challenges', 'Conditionals practice.xlsx', 'data.csv', 'Hello_vba.xlsm', 'LOTR.xlsm', 'Untitled.ipynb', 'Untitled1.ipynb']\n"
     ]
    }
   ],
   "source": [
    "import os\n",
    "\n",
    "directory_path = r\"C:\\Users\\alabi\\OneDrive\\Desktop\\Coding Class\"\n",
    "files = os.listdir(directory_path)\n",
    "print(files)"
   ]
  },
  {
   "cell_type": "code",
   "execution_count": 43,
   "metadata": {},
   "outputs": [],
   "source": [
    "file_path = r\"C:\\Users\\alabi\\OneDrive\\Desktop\\Coding Class\\data.csv\"\n",
    "\n",
    "\n"
   ]
  },
  {
   "cell_type": "code",
   "execution_count": 45,
   "metadata": {},
   "outputs": [
    {
     "name": "stdout",
     "output_type": "stream",
     "text": [
      "       City    Year     Sport Discipline           Event  \\\n",
      "0  Montreal  1976.0  Aquatics     Diving  3m springboard   \n",
      "1  Montreal  1976.0  Aquatics     Diving  3m springboard   \n",
      "2  Montreal  1976.0  Aquatics     Diving  3m springboard   \n",
      "3  Montreal  1976.0  Aquatics     Diving  3m springboard   \n",
      "4  Montreal  1976.0  Aquatics     Diving    10m platform   \n",
      "\n",
      "                    Athlete Gender Country_Code        Country Event_gender  \\\n",
      "0           KÖHLER, Christa  Women          GDR   East Germany            W   \n",
      "1       KOSENKOV, Aleksandr    Men          URS   Soviet Union            M   \n",
      "2      BOGGS, Philip George    Men          USA  United States            M   \n",
      "3  CAGNOTTO, Giorgio Franco    Men          ITA          Italy            M   \n",
      "4    WILSON, Deborah Keplar  Women          USA  United States            W   \n",
      "\n",
      "    Medal  \n",
      "0  Silver  \n",
      "1  Bronze  \n",
      "2    Gold  \n",
      "3  Silver  \n",
      "4  Bronze  \n"
     ]
    }
   ],
   "source": [
    "try:\n",
    "    data = pd.read_csv(file_path, encoding='latin1')\n",
    "except UnicodeDecodeError:\n",
    "    print(\"Failed to read with 'latin1' encoding. Trying 'iso-8859-1'.\")\n",
    "    try:\n",
    "        data = pd.read_csv(file_path, encoding='iso-8859-1')\n",
    "    except UnicodeDecodeError:\n",
    "        print(\"Failed to read with 'iso-8859-1' encoding. Trying 'cp1252'.\")\n",
    "        try:\n",
    "            data = pd.read_csv(file_path, encoding='cp1252')\n",
    "        except UnicodeDecodeError:\n",
    "            print(\"Failed to read with 'cp1252' encoding. Please check the file encoding.\")\n",
    "\n",
    "# Display the first few rows of the DataFrame if successfully read\n",
    "if 'data' in locals():\n",
    "    print(data.head())"
   ]
  }
 ],
 "metadata": {
  "kernelspec": {
   "display_name": "dev",
   "language": "python",
   "name": "python3"
  },
  "language_info": {
   "codemirror_mode": {
    "name": "ipython",
    "version": 3
   },
   "file_extension": ".py",
   "mimetype": "text/x-python",
   "name": "python",
   "nbconvert_exporter": "python",
   "pygments_lexer": "ipython3",
   "version": "3.12.4"
  }
 },
 "nbformat": 4,
 "nbformat_minor": 2
}
